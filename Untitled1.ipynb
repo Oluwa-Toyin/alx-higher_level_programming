{
 "cells": [
  {
   "cell_type": "code",
   "execution_count": 1,
   "id": "9358eccb-c5f6-49a1-92fd-cb5357fd9d54",
   "metadata": {},
   "outputs": [
    {
     "name": "stdout",
     "output_type": "stream",
     "text": [
      "Hello World\n"
     ]
    }
   ],
   "source": [
    "print(\"Hello World\")"
   ]
  },
  {
   "cell_type": "code",
   "execution_count": 2,
   "id": "e3f906fe-4852-42e3-95e9-224d2117928f",
   "metadata": {},
   "outputs": [
    {
     "name": "stdout",
     "output_type": "stream",
     "text": [
      "This is my first python project in ALX\n"
     ]
    }
   ],
   "source": [
    "print (\"This is my first python project in ALX\")"
   ]
  },
  {
   "cell_type": "code",
   "execution_count": null,
   "id": "2675f993-93bb-4d6f-8407-659c717e0a28",
   "metadata": {},
   "outputs": [],
   "source": []
  }
 ],
 "metadata": {
  "kernelspec": {
   "display_name": "Python 3 (ipykernel)",
   "language": "python",
   "name": "python3"
  },
  "language_info": {
   "codemirror_mode": {
    "name": "ipython",
    "version": 3
   },
   "file_extension": ".py",
   "mimetype": "text/x-python",
   "name": "python",
   "nbconvert_exporter": "python",
   "pygments_lexer": "ipython3",
   "version": "3.12.0"
  }
 },
 "nbformat": 4,
 "nbformat_minor": 5
}
